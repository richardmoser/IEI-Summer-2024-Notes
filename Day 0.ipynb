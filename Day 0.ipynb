{
 "cells": [
  {
   "metadata": {},
   "cell_type": "markdown",
   "source": "# Day 0",
   "id": "a45b3ddcdcdf2e71"
  },
  {
   "metadata": {
    "ExecuteTime": {
     "end_time": "2024-06-03T17:26:38.674018Z",
     "start_time": "2024-06-03T17:26:38.671186Z"
    }
   },
   "cell_type": "code",
   "source": "print(\"test\")",
   "id": "7f54693b63bb4616",
   "outputs": [
    {
     "name": "stdout",
     "output_type": "stream",
     "text": [
      "test\n"
     ]
    }
   ],
   "execution_count": 2
  },
  {
   "metadata": {},
   "cell_type": "markdown",
   "source": [
    "- [ ] gum $\\rightarrow$ bag\n",
    "\n",
    "- [ ] parking permit pickup"
   ],
   "id": "5e82482facc8f892"
  },
  {
   "metadata": {},
   "cell_type": "markdown",
   "source": "# safety",
   "id": "be6b5b8a696992e1"
  },
  {
   "metadata": {},
   "cell_type": "markdown",
   "source": [
    "- Bears not that bad\n",
    "- Meese dangerous\n",
    "    - currently calving season\n",
    "    - \"ornery\"\n",
    "    - ~ 1500 lbs\n",
    "    - signs of aggression\n",
    "        - mostly obvious ones\n",
    "        - hackles up\n",
    "        - ears flat\n",
    "        - snorting\n",
    "        - pawing ground\n",
    "- Squirrels cute\n",
    "    - thanks copilot\n",
    "- earthquakes\n",
    "    - drop, cover, hold\n",
    "        - get under a table and hold on to it until shaking stops\n",
    "    - 2018 had a real real bad one\n",
    "        - \"good friday earthquake\"\n",
    "- one of the largest tidal changes in the world\n",
    "    - **Do not go on the mud flats**\n",
    "        - you will die\n",
    "        - basically quicksand but worse\n",
    "            - the granules interlock and mechanically trap you\n",
    "            - \"they tried to recover a body with a helicopter and the body came apart\""
   ],
   "id": "e937b9d5a2724774"
  },
  {
   "metadata": {},
   "cell_type": "markdown",
   "source": "# things to do",
   "id": "dd266606af518dfb"
  },
  {
   "metadata": {},
   "cell_type": "markdown",
   "source": [
    "- There is an REI\n",
    "- get out of Anchorage  \n",
    "    - see Alaska.org\n",
    "    - Chugach State Park\n",
    "        - recommended by Kath\n",
    "        - well populated trails\n",
    "    - Denali\n",
    "- in Anchorage\n",
    "    - thursday night concerts\n",
    "    - friday lunch time concerts\n",
    "    - First Fridays downtown\n",
    "    - saturday jazz in Peratrovich Park\n",
    "    - **Summer Solstice Celebration**\n",
    "        - minor league baseball at 0000\n",
    "    "
   ],
   "id": "bd29eac6be14a6bf"
  },
  {
   "metadata": {},
   "cell_type": "markdown",
   "source": "# food",
   "id": "77a7a8e27353cabe"
  },
  {
   "metadata": {},
   "cell_type": "markdown",
   "source": [
    "- it is tourist season\n",
    "- **Moose's Tooth**\n",
    "    - known for the best pizza in town\n",
    "- Spenard Roadhouse\n",
    "    - \"bacon of the month\"\n",
    "- 49th State Brewing\n",
    "    - fancier, more expensive, but Kath says it's worth it\n",
    "- Orso\n",
    "    - fancy\n",
    "- Bear Tooth Theatrepub\n",
    "    - movies and food\n",
    "    - John Recommends\n",
    "    - not to be confused with Bear Tooth Grill\n",
    "        - which is right next door\n",
    "- local foods\n",
    "    - salmon, halibut, crab\n",
    "    - \"anywhere\"\n",
    "        - also the grocery store\n",
    "        - New Sagaya City Market\n",
    "            - combination asian market and imitation Trader Joe's\n",
    "            - fresh seafood for reasonable prices\n",
    "    - copper river red salmon is coming in season\n",
    "    - locals have strong opinions on which of the 5 species of salmon is best\n",
    "        - even which river is best "
   ],
   "id": "d2f7839de3173279"
  },
  {
   "metadata": {},
   "cell_type": "markdown",
   "source": "# campus gym",
   "id": "58ca908c6ddc00d5"
  },
  {
   "metadata": {},
   "cell_type": "markdown",
   "source": [
    "- \"that chemical spill has been fixed, right?\"\n",
    "    - Kath\n",
    "- attached to the union\n",
    "    - Avis Alaska Sports Complex\n",
    "    - a good distance west of the library\n",
    "- may be too expensive to be worth it\n",
    "    - **no chemical spill in the mountains**\n",
    "- YMCA is cheaper it looks like"
   ],
   "id": "93bf06a0c458efb9"
  },
  {
   "metadata": {},
   "cell_type": "markdown",
   "source": "",
   "id": "d8aa62503d07ea7a"
  },
  {
   "metadata": {},
   "cell_type": "markdown",
   "source": "",
   "id": "1d2fb536be03daf8"
  }
 ],
 "metadata": {
  "kernelspec": {
   "display_name": "Python 3",
   "language": "python",
   "name": "python3"
  },
  "language_info": {
   "codemirror_mode": {
    "name": "ipython",
    "version": 2
   },
   "file_extension": ".py",
   "mimetype": "text/x-python",
   "name": "python",
   "nbconvert_exporter": "python",
   "pygments_lexer": "ipython2",
   "version": "2.7.6"
  }
 },
 "nbformat": 4,
 "nbformat_minor": 5
}
