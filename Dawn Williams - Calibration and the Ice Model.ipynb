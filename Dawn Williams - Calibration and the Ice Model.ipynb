{
 "cells": [
  {
   "metadata": {},
   "cell_type": "markdown",
   "source": "# Calibration & Reconstruction",
   "id": "3e0bc333443f3202"
  },
  {
   "metadata": {},
   "cell_type": "markdown",
   "source": [
    "- Paxman et al Scientific Reports volume 12, Article number 11399 (2022)\n",
    "    - has a representation of Antarctica without the ice"
   ],
   "id": "4311cf943fd7a82e"
  },
  {
   "metadata": {},
   "cell_type": "markdown",
   "source": [
    "- Birefringence\n",
    "    - \"deck of cards deformation\"\n",
    "        - the little internal layers of ice are like cards\n",
    "        - the cards can stay horizontal while still not shifting uniformly\n",
    "        - light is preferentially bent in the flow direction"
   ],
   "id": "693f8f4581970cb2"
  },
  {
   "metadata": {},
   "cell_type": "markdown",
   "source": "acoustic sensors for geometry evaluation",
   "id": "830c7302fbe31038"
  },
  {
   "metadata": {},
   "cell_type": "markdown",
   "source": "",
   "id": "863303451110cbf0"
  },
  {
   "metadata": {},
   "cell_type": "markdown",
   "source": "",
   "id": "d24ab75a529def24"
  },
  {
   "metadata": {},
   "cell_type": "markdown",
   "source": "",
   "id": "cee45e5a4ee6b3d7"
  },
  {
   "metadata": {},
   "cell_type": "markdown",
   "source": "",
   "id": "2f64a635ca770480"
  },
  {
   "metadata": {},
   "cell_type": "markdown",
   "source": "",
   "id": "1ccc17628429fa7b"
  }
 ],
 "metadata": {
  "kernelspec": {
   "display_name": "Python 3",
   "language": "python",
   "name": "python3"
  },
  "language_info": {
   "codemirror_mode": {
    "name": "ipython",
    "version": 2
   },
   "file_extension": ".py",
   "mimetype": "text/x-python",
   "name": "python",
   "nbconvert_exporter": "python",
   "pygments_lexer": "ipython2",
   "version": "2.7.6"
  }
 },
 "nbformat": 4,
 "nbformat_minor": 5
}
