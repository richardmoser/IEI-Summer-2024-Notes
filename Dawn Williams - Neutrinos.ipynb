{
 "cells": [
  {
   "metadata": {},
   "cell_type": "markdown",
   "source": "# Neutrinos",
   "id": "a70224f58f59f84b"
  },
  {
   "metadata": {},
   "cell_type": "markdown",
   "source": "- Stop for meese",
   "id": "834c9cb1c14efc27"
  },
  {
   "metadata": {},
   "cell_type": "markdown",
   "source": [
    "- electron mass ~ 511,000 eV\n",
    "- neutrino mass < 1 eV"
   ],
   "id": "71802a68ca17b97f"
  },
  {
   "metadata": {},
   "cell_type": "markdown",
   "source": [
    "- mass eigenstates are linear superpositions of flavor eigenstates and vice versa\n",
    "- mass and energy eigenstates interact as flavor eigenstates\n",
    "- matrix form\n",
    "    - $\\nu_\\alpha = U_{\\alpha i} \\nu_i$\n",
    "        \n",
    "        - flavor eigenstates $\\alpha$\n",
    "        - mass eigenstates $i$\n",
    "    - $U = \\begin{pmatrix}\n",
    "cos\\theta & sin\\theta \\\\\n",
    "-sin\\theta & cos\\theta \n",
    "\\end{pmatrix}$\n",
    "    - $P(\\nu_e \\rightarrow \\nu_\\mu) = sin^2(2\\theta)sin^2(\\frac{\\Delta m^2 L}{4E})$\n",
    "        - probability of oscillation from electron to muon neutrino\n",
    "    - the three flavor matrix is truly disgusting\n",
    "        - see Dawn's slide 8 if interested"
   ],
   "id": "ee355ceabf206431"
  },
  {
   "metadata": {},
   "cell_type": "markdown",
   "source": [
    "- MSW effect\n",
    "    - affects electron neutrinos in dense matter\n",
    "        - e.g. solar neutrinos\n",
    "    - an additional factor in the oscillation probability for electron neutrinos only\n",
    "    - oscillation is enhanced for certain energies, e.g. all solar neutrinos > 1 MeV"
   ],
   "id": "747924b8d891a55d"
  },
  {
   "metadata": {},
   "cell_type": "markdown",
   "source": [
    "- mass\n",
    "    - we only know the difference of the square of the masses between flavors\n",
    "        - since it is squared, we don't know the sign\n",
    "        - hence we don't know the actual mass of any or which is the heaviest\n",
    "    - must be < 0.12eV by cosmological measurements\n",
    "    - KATRIN's latest bounds are mass < 0.8eV as of 2022 results "
   ],
   "id": "64bedcc5492b9df9"
  },
  {
   "metadata": {},
   "cell_type": "markdown",
   "source": [
    "- sources\n",
    "    - that source plot is from Christian Spiering\n",
    "        - https://arxiv.org/abs/1207.4952 \n",
    "    - cosmological neutrinos are as yet undetected\n",
    "        - but they are a significant portion of the universe's mass\n",
    "        - so low energy, they are hard to detect\n",
    "    - solar neutrinos\n",
    "        - proton-proton chain fusion\n",
    "            - in: 6 protons\n",
    "            - out: 4 He nuclei, 2 gamma rays, 2 neutrinos, 2 positrons\n",
    "        - lots of other processes with lower fluxes\n",
    "            - some have higher energies and are easier to detect\n",
    "            - 2 body processes will output one discrete energy of neutrino\n",
    "            - 3 or more body processes will output a continuous spectrum of possible energies\n",
    "    - accelerator\n",
    "        - shoot protons at a target medium\n",
    "            - protons decay into pions which decay into neutrinos\n",
    "    - Active Galactic Nuclei (AGN)\n",
    "        -  ______________________________\n",
    "        - |                              |\n",
    "        <img src=\"images/AGN_Donut.jpg\" width=500>\n",
    "                  ___\n",
    "        - black holes\n",
    "        - neutrinos are produced in the relativistic jets\n",
    "        - the jets are perpendicular to the accretion disk\n",
    "        - when the jets are pointed at the Earth, we call them blazars\n",
    "            - flares occur when something falls into the black hole\n",
    "                - i.e. flux is proportional to the rate of infalling matter\n",
    "    - supernovae\n",
    "        - neutrinos are produced in the core collapse\n",
    "        - they are the first to escape\n",
    "        - they are the first to be detected\n",
    "    - atmospheric\n",
    "        - cosmic rays hit the atmosphere\n",
    "        - break apart into all sorts of particles\n",
    "    - \"protons are always running into things\""
   ],
   "id": "1454c974500499fb"
  },
  {
   "metadata": {},
   "cell_type": "markdown",
   "source": [
    "- flavor oscillation\n",
    "    - probabilities \n",
    "        - $P_{ee} \\approx 0.557$\n",
    "        - $P_{e\\mu} \\approx 0.211$\n",
    "        - $P_{e\\tau} \\approx 0.211$\n",
    "        - $P_{\\mu\\mu} \\approx 0.397$\n",
    "        - $P_{\\mu\\tau} \\approx 0.397$\n",
    "        - $P_{\\tau\\tau} \\approx 0.395$\n",
    "        - probabilities are identical in reverse\n",
    "            - i.e. $P_{e\\mu} = P_{\\mu e}$\n",
    "        - $P_{\\nu_\\alpha \\rightarrow \\nu_\\beta} = |<\\nu_\\beta(t)|\\nu_\\alpha(t=0)>|^2$\n",
    "    - one case: standard pion decay\n",
    "        - default scenario: pion decays to muons, muons decay to electrons\n",
    "        - flavor ration at source is $\\nu_e$:$\\nu_\\mu$:$\\nu_\\tau$ = 1:2:0\n",
    "        - flavor ratio at Earth is $\\nu_e$:$\\nu_\\mu$:$\\nu_\\tau$ = 1:1:1\n",
    "            - this is not what we observe\n",
    "        - muon damping\n",
    "            - expected to be stronger at higher energies\n",
    "            - actual flavor ratio is $\\nu_e$:$\\nu_\\mu$:$\\nu_\\tau$ = 0:1:0\n",
    "            - observed at earth is $\\nu_e$:$\\nu_\\mu$:$\\nu_\\tau$ = 0.2:0.4:0.4\n",
    "    - neutron decay\n",
    "        - neutrons are produced by photodissociation of heavier nuclei\n",
    "        - decay into proton, electron, and electron antineutrino\n",
    "        - flavor ratio on slide 31 of Dawn's presentation\n",
    "    - muon beam\n",
    "        - muons \"pile up\" at low energies and muon decay dominates\n",
    "        - one electron neutrino and one muon neutrino are produced per muon decay\n",
    "        - flavor ratio at source is $\\nu_e$:$\\nu_\\mu$:$\\nu_\\tau$ = 1:1:0\n",
    "        - flavor ratio at Earth is $\\nu_e$:$\\nu_\\mu$:$\\nu_\\tau$ = 0.4:0.3:0.3\n",
    "                \n",
    "        <img src=\"images/flavors.png\" width=500>"
   ],
   "id": "75fb1bd546b280f6"
  },
  {
   "metadata": {},
   "cell_type": "markdown",
   "source": [
    "- IceCube\n",
    "    - general\n",
    "        - (technically) violates the Antartic Treaty by leaving a permanent installation in the ice\n",
    "        - 86 strings, 60 DOMs per string, 5160 DOMs total\n",
    "        - deployed between 1450m and 2450m deep\n",
    "        - 81 IceTop stations on the surface\n",
    "        - uptime >99%\n",
    "        - IceCube is sensitive to tau neutrinos, most experiments are not\n",
    "    - IceCube upgrade\n",
    "        - delayed due to COVID to 2025-2026\n",
    "        - adding several strings focusing on the deep, central portion of the detector\n",
    "        - goal is to increase the resolution of low energy detections\n",
    "            - low energy $\\rightarrow$ less light propagation $\\rightarrow$ less DOMs activated\n",
    "            - more DOMs per volume $\\rightarrow$ better resolution\n",
    "        - should reduce error bars to half of current values\n",
    "        - currently approved and funded by NSF\n",
    "    - IceCube Gen2\n",
    "        - \"MORE!\" - Kylo Ren\n",
    "        - sensitive to 5x fainter sources\n",
    "        - stronger muon damping sensitivity, allowing for better flavor ratio measurements\n",
    "        - not yet approved/funded\n",
    "            - NSF has logistical concerns in the coming years\n",
    "            - probably not enough power to support Gen2 currently at the SPS\n",
    "            - difficult to get hardware to the site\n"
   ],
   "id": "98a49757cc74ff12"
  },
  {
   "metadata": {},
   "cell_type": "markdown",
   "source": "",
   "id": "13c3b1631898be45"
  },
  {
   "metadata": {},
   "cell_type": "markdown",
   "source": "",
   "id": "8cf9dfa3d4e3cac6"
  },
  {
   "metadata": {},
   "cell_type": "markdown",
   "source": "",
   "id": "4c0dc96a5737deef"
  },
  {
   "metadata": {},
   "cell_type": "markdown",
   "source": "",
   "id": "f86d2deb29aea82"
  },
  {
   "metadata": {},
   "cell_type": "markdown",
   "source": "",
   "id": "91812e40531ed8e4"
  },
  {
   "metadata": {},
   "cell_type": "markdown",
   "source": "",
   "id": "a07239ff29a3c208"
  }
 ],
 "metadata": {
  "kernelspec": {
   "display_name": "Python 3",
   "language": "python",
   "name": "python3"
  },
  "language_info": {
   "codemirror_mode": {
    "name": "ipython",
    "version": 2
   },
   "file_extension": ".py",
   "mimetype": "text/x-python",
   "name": "python",
   "nbconvert_exporter": "python",
   "pygments_lexer": "ipython2",
   "version": "2.7.6"
  }
 },
 "nbformat": 4,
 "nbformat_minor": 5
}
