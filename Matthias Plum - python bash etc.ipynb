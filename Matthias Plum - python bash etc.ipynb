{
 "cells": [
  {
   "metadata": {},
   "cell_type": "markdown",
   "source": "# Python, Bash, etc.",
   "id": "cd50fe3a984dcad2"
  },
  {
   "metadata": {},
   "cell_type": "markdown",
   "source": "- Cobalt is backed up every 24 hours\n",
   "id": "f20ab302b241e241"
  },
  {
   "metadata": {},
   "cell_type": "markdown",
   "source": "# C++",
   "id": "a8b831bfc258b66f"
  },
  {
   "metadata": {},
   "cell_type": "markdown",
   "source": "",
   "id": "d6cb17bf76aaf9c0"
  },
  {
   "metadata": {},
   "cell_type": "markdown",
   "source": "",
   "id": "528b4dfdc8c3ee91"
  },
  {
   "metadata": {},
   "cell_type": "markdown",
   "source": "",
   "id": "a587895f43708b8b"
  },
  {
   "metadata": {},
   "cell_type": "markdown",
   "source": "",
   "id": "ba11df88a091cc3"
  },
  {
   "metadata": {},
   "cell_type": "markdown",
   "source": "",
   "id": "7af9e86f911aafa3"
  },
  {
   "metadata": {},
   "cell_type": "markdown",
   "source": "",
   "id": "4ab4dc4d57c76235"
  },
  {
   "metadata": {},
   "cell_type": "markdown",
   "source": "",
   "id": "2171896da89bd600"
  }
 ],
 "metadata": {
  "kernelspec": {
   "display_name": "Python 3",
   "language": "python",
   "name": "python3"
  },
  "language_info": {
   "codemirror_mode": {
    "name": "ipython",
    "version": 2
   },
   "file_extension": ".py",
   "mimetype": "text/x-python",
   "name": "python",
   "nbconvert_exporter": "python",
   "pygments_lexer": "ipython2",
   "version": "2.7.6"
  }
 },
 "nbformat": 4,
 "nbformat_minor": 5
}
