{
 "cells": [
  {
   "metadata": {
    "ExecuteTime": {
     "end_time": "2024-06-10T21:37:37.928428Z",
     "start_time": "2024-06-10T21:37:37.400186Z"
    }
   },
   "cell_type": "code",
   "source": "cout << \"Hello World\" << endl;",
   "id": "9284559f990b4d39",
   "outputs": [
    {
     "name": "stdout",
     "output_type": "stream",
     "text": [
      "Hello World\n"
     ]
    }
   ],
   "execution_count": 1
  },
  {
   "metadata": {},
   "cell_type": "markdown",
   "source": "",
   "id": "e6078dd4af3929c9"
  },
  {
   "metadata": {},
   "cell_type": "markdown",
   "source": "",
   "id": "3ca76d5c0295553e"
  },
  {
   "metadata": {
    "ExecuteTime": {
     "end_time": "2024-06-10T22:40:25.983158Z",
     "start_time": "2024-06-10T22:40:25.457025Z"
    }
   },
   "cell_type": "code",
   "source": "TCanvas *canvas = new TCanvas(\"canvas\", \"canvas\", 800, 600);",
   "id": "6b3ff2e30e70011c",
   "outputs": [],
   "execution_count": 1
  },
  {
   "metadata": {
    "ExecuteTime": {
     "end_time": "2024-06-10T22:58:43.529297Z",
     "start_time": "2024-06-10T22:58:43.325755Z"
    }
   },
   "cell_type": "code",
   "source": [
    "double math_func(double x)\n",
    "{\n",
    "    //return sin(x/10);\n",
    "    if (x < 400)\n",
    "    {\n",
    "        return sin(x/10) * exp(0.01 * (x - 400));\n",
    "    }\n",
    "    else if (x < 600)\n",
    "    {\n",
    "        return sin(x/10);\n",
    "    }\n",
    "    else\n",
    "    {\n",
    "        return sin(x/10) * exp(-0.01 * (x - 600));\n",
    "    }\n",
    "    \n",
    "\n",
    "}"
   ],
   "id": "e60ee22eaa83cc90",
   "outputs": [],
   "execution_count": 60
  },
  {
   "metadata": {
    "ExecuteTime": {
     "end_time": "2024-06-10T23:20:33.732201Z",
     "start_time": "2024-06-10T23:20:32.344070Z"
    }
   },
   "cell_type": "code",
   "source": [
    "TGraph *graph = new TGraph();\n",
    "double noise;\n",
    "// plot random noise with a sine wave \n",
    "\n",
    "vector <double> x;\n",
    "\n",
    "for (int i = -200; i < 1800; i++) \n",
    "{\n",
    "    noise = gRandom->Gaus(0, .2);\n",
    "    x.push_back(math_func(i) * 0 + noise);\n",
    "    //x.push_back(i);\n",
    "\n",
    "    graph->SetPoint(i, i, x[i]);\n",
    "}\n",
    "\n",
    "//graph->SetMarkerStyle(20);\n",
    "\n",
    "graph->Draw(\"APL\");\n",
    "canvas->Draw();"
   ],
   "id": "18ac0100edf3f2da",
   "outputs": [
    {
     "data": {
      "text/plain": [
       "<IPython.core.display.Image object>"
      ],
      "image/png": "[encoded data removed]"
     },
     "metadata": {},
     "output_type": "display_data"
    }
   ],
   "execution_count": 69
  },
  {
   "metadata": {},
   "cell_type": "code",
   "outputs": [],
   "execution_count": null,
   "source": "",
   "id": "b02931463acd5ddd"
  },
  {
   "metadata": {},
   "cell_type": "code",
   "outputs": [],
   "execution_count": null,
   "source": "",
   "id": "b13fdef0f69a44a0"
  },
  {
   "metadata": {},
   "cell_type": "code",
   "outputs": [],
   "execution_count": null,
   "source": "",
   "id": "bfde91889fd909f0"
  },
  {
   "metadata": {},
   "cell_type": "code",
   "outputs": [],
   "execution_count": null,
   "source": "",
   "id": "7df961b44c028d78"
  },
  {
   "metadata": {},
   "cell_type": "code",
   "outputs": [],
   "execution_count": null,
   "source": "",
   "id": "22b509fbcc8e5259"
  },
  {
   "metadata": {},
   "cell_type": "code",
   "outputs": [],
   "execution_count": null,
   "source": "",
   "id": "111f9cf714cee7f5"
  },
  {
   "metadata": {},
   "cell_type": "code",
   "outputs": [],
   "execution_count": null,
   "source": "",
   "id": "6be564988b79af18"
  },
  {
   "metadata": {},
   "cell_type": "code",
   "outputs": [],
   "execution_count": null,
   "source": "",
   "id": "1152c761ad74e013"
  }
 ],
 "metadata": {
  "kernelspec": {
   "display_name": "ROOT C++",
   "language": "c++",
   "name": "root"
  },
  "language_info": {
   "codemirror_mode": {
    "name": "ipython",
    "version": 2
   },
   "file_extension": ".py",
   "mimetype": "text/x-python",
   "name": "python",
   "nbconvert_exporter": "python",
   "pygments_lexer": "ipython2",
   "version": "2.7.6"
  }
 },
 "nbformat": 4,
 "nbformat_minor": 5
}
