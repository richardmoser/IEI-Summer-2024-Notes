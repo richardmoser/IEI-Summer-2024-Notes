{
 "cells": [
  {
   "metadata": {},
   "cell_type": "markdown",
   "source": "# Particles are Like Fish",
   "id": "83a573b2267cd6fe"
  },
  {
   "metadata": {},
   "cell_type": "markdown",
   "source": [
    "- Power Law for particles\n",
    "    - $N_{particles} = (someconstant) \\cdot E^{-\\gamma}$\n",
    "        - $\\gamma$ is the spectral index\n",
    "            - sometimes represented as a negative number and the negative is dropped from the equation\n",
    "            - with either convention, the larger the number, the fewer particles there are\n",
    "    - on a linear plot, you just see the very low energy particles\n",
    "    - on a log-log plot, you see the entire distribution with a more linear shape\n",
    "        - $N = C \\cdot E^{-\\gamma}$\n",
    "        - $N = C \\cdot 10^{log_{10}(E)^{-\\gamma}}$\n",
    "        - $N = C \\cdot 10^{-\\gamma \\cdot log_{10}(E)}$\n",
    "        - $Nlog_{10}(E) = log_{10}(C) - \\gamma \\cdot log_{10}(E)$\n",
    "                \n",
    "            - the $- \\gamma$ is the slope of the line, hence the linear shape\n",
    "    - fitting a line to a log-log plot is estimating the spectral index"
   ],
   "id": "615ebc76a949a82d"
  },
  {
   "metadata": {},
   "cell_type": "markdown",
   "source": [
    "- flux: the number of particles per second per square meter per steradian\n",
    "    - steradian is a unit of solid angle\n",
    "        - solid angle is a measure of how much of the sky is being observed\n",
    "    - IceCube can observe 4$\\pi$ steradians\n",
    "        - the entire sky\n",
    "        - $\\Omega = \\frac{areaofsurface}{radius^2}$\n",
    "                \n",
    "            - the area of the surface refers to the area of the sphere's surface which is being observed\n",
    "            - IceCube observes the entire sphere so A = 4$\\pi r^2$\n",
    "                        \n",
    "            - $\\Omega = \\frac{4\\pi r^2}{r^2} = 4\\pi$\n",
    "                        \n",
    "    \n",
    "- differential flux: the number of particles per second per square meter per steradian per unit energy\n",
    "    - now we are taking into account the energy of the particles\n",
    "    - not all detectors are sensitive to all energies\n",
    "    - now we are calculating with respect to:\n",
    "        - \"per second\" - how long the detector ran\n",
    "        - \"per square meter\" - the detector size\n",
    "        - \"per steradian\" - how much of the sky the detector can see\n",
    "        - \"per unit energy\" - what energies the detector is sensitive to\n",
    "    - many conventions for how you label this\n",
    "        - J or $\\Phi$ for flux\n",
    "        - sometimes written with $\\delta$ for differential and sometimes with \"d\"\n",
    "        - sometimes abbreviated \"dN/dE\" \n",
    "            - the per s, per m^2, per steradian, etc are implied\n",
    "        - best to write out all the units\n",
    "            - e.g. Flux $(m^2 \\cdot sr \\cdot s \\cdot GeV)^{-1}$"
   ],
   "id": "82755e20f7637e70"
  },
  {
   "metadata": {},
   "cell_type": "markdown",
   "source": [
    "- CR flux doesn't log-log out to a line\n",
    "    - there are three roughly distinct sections\n",
    "        - low energy\n",
    "        - knee\n",
    "        - ankle\n",
    "- the spectral index tells you something about a population of particles\n",
    "    - can be used to infer the acceleration mechanism (the source)\n",
    "    - so if the spectral index line changes slope, it implies that that that energy spectrum is dominated by a different population of particles\n",
    "        - e.g. the knee and ankle divide regions dominated by particles from different sources"
   ],
   "id": "703c3da7a8c032d6"
  },
  {
   "metadata": {},
   "cell_type": "markdown",
   "source": [
    "- a trick for make plots more readable\n",
    "    - e.g. making the knee and ankle more evident\n",
    "    - multiply each bin by it's energy\n",
    "        - $E \\cdot \\frac{dN}{dE}$\n",
    "        - this will make the knee and ankle more evident\n",
    "        - the knee and ankle are now more evident because they are the points where the line changes slope\n",
    "        - the units will get very funky\n",
    "            - e.g. Scaled Flux $J \\cdot E^2.7  (m^-2 \\cdot sr^{-1} \\cdot s^{-1} \\cdot eV^{1.7})$\n",
    "                - note the $E^{1.7}$ due to multiplying the energy by $E$"
   ],
   "id": "669668ddf09822f1"
  },
  {
   "metadata": {},
   "cell_type": "markdown",
   "source": "- the fun part is theorizing what populations exist to make all the bumps and wiggles",
   "id": "254aa58acf2ec06d"
  },
  {
   "metadata": {},
   "cell_type": "markdown",
   "source": "",
   "id": "c3d715c6d6650057"
  },
  {
   "metadata": {},
   "cell_type": "markdown",
   "source": "",
   "id": "48f8a86dae909540"
  }
 ],
 "metadata": {
  "kernelspec": {
   "display_name": "Python 3",
   "language": "python",
   "name": "python3"
  },
  "language_info": {
   "codemirror_mode": {
    "name": "ipython",
    "version": 2
   },
   "file_extension": ".py",
   "mimetype": "text/x-python",
   "name": "python",
   "nbconvert_exporter": "python",
   "pygments_lexer": "ipython2",
   "version": "2.7.6"
  }
 },
 "nbformat": 4,
 "nbformat_minor": 5
}
